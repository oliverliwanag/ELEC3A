{
 "cells": [
  {
   "cell_type": "markdown",
   "id": "e593ced0-c6a1-4938-ac89-43fa8157efdc",
   "metadata": {},
   "source": [
    "<h1>Activity 2 - UK Road Accident Data Analytics</h1>\n",
    "<hr>"
   ]
  },
  {
   "cell_type": "code",
   "execution_count": 2,
   "id": "af333e37-61a8-4336-8e3f-ff47a2272162",
   "metadata": {},
   "outputs": [],
   "source": [
    "import numpy as np\n",
    "import pandas as pd\n",
    "import warnings\n",
    "warnings.filterwarnings('ignore')"
   ]
  },
  {
   "cell_type": "code",
   "execution_count": 3,
   "id": "d2d9a1f2-0693-4a62-bf0a-02ab48727d9c",
   "metadata": {},
   "outputs": [
    {
     "data": {
      "text/html": [
       "<div>\n",
       "<style scoped>\n",
       "    .dataframe tbody tr th:only-of-type {\n",
       "        vertical-align: middle;\n",
       "    }\n",
       "\n",
       "    .dataframe tbody tr th {\n",
       "        vertical-align: top;\n",
       "    }\n",
       "\n",
       "    .dataframe thead th {\n",
       "        text-align: right;\n",
       "    }\n",
       "</style>\n",
       "<table border=\"1\" class=\"dataframe\">\n",
       "  <thead>\n",
       "    <tr style=\"text-align: right;\">\n",
       "      <th></th>\n",
       "      <th>Index</th>\n",
       "      <th>Accident_Severity</th>\n",
       "      <th>Accident Date</th>\n",
       "      <th>Latitude</th>\n",
       "      <th>Light_Conditions</th>\n",
       "      <th>District Area</th>\n",
       "      <th>Longitude</th>\n",
       "      <th>Number_of_Casualties</th>\n",
       "      <th>Number_of_Vehicles</th>\n",
       "      <th>Road_Surface_Conditions</th>\n",
       "      <th>Road_Type</th>\n",
       "      <th>Urban_or_Rural_Area</th>\n",
       "      <th>Weather_Conditions</th>\n",
       "      <th>Vehicle_Type</th>\n",
       "    </tr>\n",
       "  </thead>\n",
       "  <tbody>\n",
       "    <tr>\n",
       "      <th>0</th>\n",
       "      <td>200701BS64157</td>\n",
       "      <td>Serious</td>\n",
       "      <td>5/6/2019</td>\n",
       "      <td>51.506187</td>\n",
       "      <td>Darkness - lights lit</td>\n",
       "      <td>Kensington and Chelsea</td>\n",
       "      <td>-0.209082</td>\n",
       "      <td>1</td>\n",
       "      <td>2</td>\n",
       "      <td>Dry</td>\n",
       "      <td>Single carriageway</td>\n",
       "      <td>Urban</td>\n",
       "      <td>Fine no high winds</td>\n",
       "      <td>Car</td>\n",
       "    </tr>\n",
       "    <tr>\n",
       "      <th>1</th>\n",
       "      <td>200701BS65737</td>\n",
       "      <td>Serious</td>\n",
       "      <td>2/7/2019</td>\n",
       "      <td>51.495029</td>\n",
       "      <td>Daylight</td>\n",
       "      <td>Kensington and Chelsea</td>\n",
       "      <td>-0.173647</td>\n",
       "      <td>1</td>\n",
       "      <td>2</td>\n",
       "      <td>Wet or damp</td>\n",
       "      <td>Single carriageway</td>\n",
       "      <td>Urban</td>\n",
       "      <td>Raining no high winds</td>\n",
       "      <td>Car</td>\n",
       "    </tr>\n",
       "    <tr>\n",
       "      <th>2</th>\n",
       "      <td>200701BS66127</td>\n",
       "      <td>Serious</td>\n",
       "      <td>26-08-2019</td>\n",
       "      <td>51.517715</td>\n",
       "      <td>Darkness - lighting unknown</td>\n",
       "      <td>Kensington and Chelsea</td>\n",
       "      <td>-0.210215</td>\n",
       "      <td>1</td>\n",
       "      <td>3</td>\n",
       "      <td>Dry</td>\n",
       "      <td>NaN</td>\n",
       "      <td>Urban</td>\n",
       "      <td>NaN</td>\n",
       "      <td>Taxi/Private hire car</td>\n",
       "    </tr>\n",
       "    <tr>\n",
       "      <th>3</th>\n",
       "      <td>200701BS66128</td>\n",
       "      <td>Serious</td>\n",
       "      <td>16-08-2019</td>\n",
       "      <td>51.495478</td>\n",
       "      <td>Daylight</td>\n",
       "      <td>Kensington and Chelsea</td>\n",
       "      <td>-0.202731</td>\n",
       "      <td>1</td>\n",
       "      <td>4</td>\n",
       "      <td>Dry</td>\n",
       "      <td>Single carriageway</td>\n",
       "      <td>Urban</td>\n",
       "      <td>Fine no high winds</td>\n",
       "      <td>Bus or coach (17 or more pass seats)</td>\n",
       "    </tr>\n",
       "    <tr>\n",
       "      <th>4</th>\n",
       "      <td>200701BS66837</td>\n",
       "      <td>Slight</td>\n",
       "      <td>3/9/2019</td>\n",
       "      <td>51.488576</td>\n",
       "      <td>Darkness - lights lit</td>\n",
       "      <td>Kensington and Chelsea</td>\n",
       "      <td>-0.192487</td>\n",
       "      <td>1</td>\n",
       "      <td>2</td>\n",
       "      <td>Dry</td>\n",
       "      <td>NaN</td>\n",
       "      <td>Urban</td>\n",
       "      <td>NaN</td>\n",
       "      <td>Other vehicle</td>\n",
       "    </tr>\n",
       "    <tr>\n",
       "      <th>...</th>\n",
       "      <td>...</td>\n",
       "      <td>...</td>\n",
       "      <td>...</td>\n",
       "      <td>...</td>\n",
       "      <td>...</td>\n",
       "      <td>...</td>\n",
       "      <td>...</td>\n",
       "      <td>...</td>\n",
       "      <td>...</td>\n",
       "      <td>...</td>\n",
       "      <td>...</td>\n",
       "      <td>...</td>\n",
       "      <td>...</td>\n",
       "      <td>...</td>\n",
       "    </tr>\n",
       "    <tr>\n",
       "      <th>660674</th>\n",
       "      <td>201091NM01760</td>\n",
       "      <td>Slight</td>\n",
       "      <td>18-02-2022</td>\n",
       "      <td>57.374005</td>\n",
       "      <td>Daylight</td>\n",
       "      <td>Highland</td>\n",
       "      <td>-3.467828</td>\n",
       "      <td>2</td>\n",
       "      <td>1</td>\n",
       "      <td>Dry</td>\n",
       "      <td>Single carriageway</td>\n",
       "      <td>Rural</td>\n",
       "      <td>Fine no high winds</td>\n",
       "      <td>Car</td>\n",
       "    </tr>\n",
       "    <tr>\n",
       "      <th>660675</th>\n",
       "      <td>201091NM01881</td>\n",
       "      <td>Slight</td>\n",
       "      <td>21-02-2022</td>\n",
       "      <td>57.232273</td>\n",
       "      <td>Darkness - no lighting</td>\n",
       "      <td>Highland</td>\n",
       "      <td>-3.809281</td>\n",
       "      <td>1</td>\n",
       "      <td>1</td>\n",
       "      <td>Frost or ice</td>\n",
       "      <td>Single carriageway</td>\n",
       "      <td>Rural</td>\n",
       "      <td>Fine no high winds</td>\n",
       "      <td>Car</td>\n",
       "    </tr>\n",
       "    <tr>\n",
       "      <th>660676</th>\n",
       "      <td>201091NM01935</td>\n",
       "      <td>Slight</td>\n",
       "      <td>23-02-2022</td>\n",
       "      <td>57.585044</td>\n",
       "      <td>Daylight</td>\n",
       "      <td>Highland</td>\n",
       "      <td>-3.862727</td>\n",
       "      <td>1</td>\n",
       "      <td>3</td>\n",
       "      <td>Frost or ice</td>\n",
       "      <td>Single carriageway</td>\n",
       "      <td>Rural</td>\n",
       "      <td>Fine no high winds</td>\n",
       "      <td>Car</td>\n",
       "    </tr>\n",
       "    <tr>\n",
       "      <th>660677</th>\n",
       "      <td>201091NM01964</td>\n",
       "      <td>Serious</td>\n",
       "      <td>23-02-2022</td>\n",
       "      <td>57.214898</td>\n",
       "      <td>Darkness - no lighting</td>\n",
       "      <td>Highland</td>\n",
       "      <td>-3.823997</td>\n",
       "      <td>1</td>\n",
       "      <td>2</td>\n",
       "      <td>Wet or damp</td>\n",
       "      <td>Single carriageway</td>\n",
       "      <td>Rural</td>\n",
       "      <td>Fine no high winds</td>\n",
       "      <td>Motorcycle over 500cc</td>\n",
       "    </tr>\n",
       "    <tr>\n",
       "      <th>660678</th>\n",
       "      <td>201091NM02142</td>\n",
       "      <td>Serious</td>\n",
       "      <td>28-02-2022</td>\n",
       "      <td>57.575210</td>\n",
       "      <td>Daylight</td>\n",
       "      <td>Highland</td>\n",
       "      <td>-3.895673</td>\n",
       "      <td>1</td>\n",
       "      <td>1</td>\n",
       "      <td>Wet or damp</td>\n",
       "      <td>Dual carriageway</td>\n",
       "      <td>Rural</td>\n",
       "      <td>Snowing no high winds</td>\n",
       "      <td>Car</td>\n",
       "    </tr>\n",
       "  </tbody>\n",
       "</table>\n",
       "<p>660679 rows × 14 columns</p>\n",
       "</div>"
      ],
      "text/plain": [
       "                Index Accident_Severity Accident Date   Latitude  \\\n",
       "0       200701BS64157           Serious      5/6/2019  51.506187   \n",
       "1       200701BS65737           Serious      2/7/2019  51.495029   \n",
       "2       200701BS66127           Serious    26-08-2019  51.517715   \n",
       "3       200701BS66128           Serious    16-08-2019  51.495478   \n",
       "4       200701BS66837            Slight      3/9/2019  51.488576   \n",
       "...               ...               ...           ...        ...   \n",
       "660674  201091NM01760            Slight    18-02-2022  57.374005   \n",
       "660675  201091NM01881            Slight    21-02-2022  57.232273   \n",
       "660676  201091NM01935            Slight    23-02-2022  57.585044   \n",
       "660677  201091NM01964           Serious    23-02-2022  57.214898   \n",
       "660678  201091NM02142           Serious    28-02-2022  57.575210   \n",
       "\n",
       "                   Light_Conditions           District Area  Longitude  \\\n",
       "0             Darkness - lights lit  Kensington and Chelsea  -0.209082   \n",
       "1                          Daylight  Kensington and Chelsea  -0.173647   \n",
       "2       Darkness - lighting unknown  Kensington and Chelsea  -0.210215   \n",
       "3                          Daylight  Kensington and Chelsea  -0.202731   \n",
       "4             Darkness - lights lit  Kensington and Chelsea  -0.192487   \n",
       "...                             ...                     ...        ...   \n",
       "660674                     Daylight                Highland  -3.467828   \n",
       "660675       Darkness - no lighting                Highland  -3.809281   \n",
       "660676                     Daylight                Highland  -3.862727   \n",
       "660677       Darkness - no lighting                Highland  -3.823997   \n",
       "660678                     Daylight                Highland  -3.895673   \n",
       "\n",
       "        Number_of_Casualties  Number_of_Vehicles Road_Surface_Conditions  \\\n",
       "0                          1                   2                     Dry   \n",
       "1                          1                   2             Wet or damp   \n",
       "2                          1                   3                     Dry   \n",
       "3                          1                   4                     Dry   \n",
       "4                          1                   2                     Dry   \n",
       "...                      ...                 ...                     ...   \n",
       "660674                     2                   1                     Dry   \n",
       "660675                     1                   1            Frost or ice   \n",
       "660676                     1                   3            Frost or ice   \n",
       "660677                     1                   2             Wet or damp   \n",
       "660678                     1                   1             Wet or damp   \n",
       "\n",
       "                 Road_Type Urban_or_Rural_Area     Weather_Conditions  \\\n",
       "0       Single carriageway               Urban     Fine no high winds   \n",
       "1       Single carriageway               Urban  Raining no high winds   \n",
       "2                      NaN               Urban                    NaN   \n",
       "3       Single carriageway               Urban     Fine no high winds   \n",
       "4                      NaN               Urban                    NaN   \n",
       "...                    ...                 ...                    ...   \n",
       "660674  Single carriageway               Rural     Fine no high winds   \n",
       "660675  Single carriageway               Rural     Fine no high winds   \n",
       "660676  Single carriageway               Rural     Fine no high winds   \n",
       "660677  Single carriageway               Rural     Fine no high winds   \n",
       "660678    Dual carriageway               Rural  Snowing no high winds   \n",
       "\n",
       "                                Vehicle_Type  \n",
       "0                                        Car  \n",
       "1                                        Car  \n",
       "2                      Taxi/Private hire car  \n",
       "3       Bus or coach (17 or more pass seats)  \n",
       "4                              Other vehicle  \n",
       "...                                      ...  \n",
       "660674                                   Car  \n",
       "660675                                   Car  \n",
       "660676                                   Car  \n",
       "660677                 Motorcycle over 500cc  \n",
       "660678                                   Car  \n",
       "\n",
       "[660679 rows x 14 columns]"
      ]
     },
     "execution_count": 3,
     "metadata": {},
     "output_type": "execute_result"
    }
   ],
   "source": [
    "road_accidents = pd.read_csv('datasets\\\\uk_road_accident.csv')\n",
    "road_accidents"
   ]
  },
  {
   "cell_type": "code",
   "execution_count": 4,
   "id": "dfedda48-4734-49ba-be6a-011c832a6177",
   "metadata": {},
   "outputs": [
    {
     "data": {
      "text/plain": [
       "Index(['Index', 'Accident_Severity', 'Accident Date', 'Latitude',\n",
       "       'Light_Conditions', 'District Area', 'Longitude',\n",
       "       'Number_of_Casualties', 'Number_of_Vehicles', 'Road_Surface_Conditions',\n",
       "       'Road_Type', 'Urban_or_Rural_Area', 'Weather_Conditions',\n",
       "       'Vehicle_Type'],\n",
       "      dtype='object')"
      ]
     },
     "execution_count": 4,
     "metadata": {},
     "output_type": "execute_result"
    }
   ],
   "source": [
    "road_accidents.columns"
   ]
  },
  {
   "cell_type": "markdown",
   "id": "eda7902e-a380-4c94-b053-1dccefdb9b4c",
   "metadata": {},
   "source": [
    "<h1>Fill Null Values</h1>"
   ]
  },
  {
   "cell_type": "code",
   "execution_count": 5,
   "id": "00fc9a70-b622-4cb1-914a-15ec70c07cc8",
   "metadata": {},
   "outputs": [
    {
     "data": {
      "text/plain": [
       "Index                          0\n",
       "Accident_Severity              0\n",
       "Accident Date                  0\n",
       "Latitude                      25\n",
       "Light_Conditions               0\n",
       "District Area                  0\n",
       "Longitude                     26\n",
       "Number_of_Casualties           0\n",
       "Number_of_Vehicles             0\n",
       "Road_Surface_Conditions      726\n",
       "Road_Type                   4520\n",
       "Urban_or_Rural_Area           15\n",
       "Weather_Conditions         14128\n",
       "Vehicle_Type                   0\n",
       "dtype: int64"
      ]
     },
     "execution_count": 5,
     "metadata": {},
     "output_type": "execute_result"
    }
   ],
   "source": [
    "road_accidents.isnull().sum()"
   ]
  },
  {
   "cell_type": "code",
   "execution_count": 6,
   "id": "e4efb2c0-fadd-4807-a297-6af5bd41ee6e",
   "metadata": {},
   "outputs": [
    {
     "data": {
      "text/plain": [
       "Index                      0\n",
       "Accident_Severity          0\n",
       "Accident Date              0\n",
       "Latitude                   0\n",
       "Light_Conditions           0\n",
       "District Area              0\n",
       "Longitude                  0\n",
       "Number_of_Casualties       0\n",
       "Number_of_Vehicles         0\n",
       "Road_Surface_Conditions    0\n",
       "Road_Type                  0\n",
       "Urban_or_Rural_Area        0\n",
       "Weather_Conditions         0\n",
       "Vehicle_Type               0\n",
       "dtype: int64"
      ]
     },
     "execution_count": 6,
     "metadata": {},
     "output_type": "execute_result"
    }
   ],
   "source": [
    "road_accidents['Latitude'] = road_accidents['Latitude'].fillna(road_accidents['Latitude'].mean())\n",
    "road_accidents['Longitude'] = road_accidents['Longitude'].fillna(road_accidents['Longitude'].mean())\n",
    "road_accidents['Road_Surface_Conditions'] = road_accidents['Road_Surface_Conditions'].fillna(road_accidents['Road_Surface_Conditions'].mode()[0])\n",
    "road_accidents['Road_Type'] = road_accidents['Road_Type'].fillna(road_accidents['Road_Type'].mode()[0])\n",
    "road_accidents['Urban_or_Rural_Area'] = road_accidents['Urban_or_Rural_Area'].fillna(road_accidents['Urban_or_Rural_Area'].mode()[0])\n",
    "road_accidents['Weather_Conditions'] = road_accidents['Weather_Conditions'].fillna(road_accidents['Weather_Conditions'].mode()[0])\n",
    "\n",
    "road_accidents.isnull().sum()"
   ]
  },
  {
   "cell_type": "markdown",
   "id": "44cee63e-fdcc-42da-aa95-f6070bd0ff3d",
   "metadata": {},
   "source": [
    "<h1>Change Data Types</h1>"
   ]
  },
  {
   "cell_type": "code",
   "execution_count": 7,
   "id": "6783efa1-28dd-4208-beb1-a0c286a0b3b8",
   "metadata": {},
   "outputs": [
    {
     "data": {
      "text/plain": [
       "Index                        object\n",
       "Accident_Severity          category\n",
       "Accident Date                object\n",
       "Latitude                    float64\n",
       "Light_Conditions           category\n",
       "District Area              category\n",
       "Longitude                   float64\n",
       "Number_of_Casualties          int64\n",
       "Number_of_Vehicles            int64\n",
       "Road_Surface_Conditions    category\n",
       "Road_Type                  category\n",
       "Urban_or_Rural_Area        category\n",
       "Weather_Conditions         category\n",
       "Vehicle_Type               category\n",
       "dtype: object"
      ]
     },
     "execution_count": 7,
     "metadata": {},
     "output_type": "execute_result"
    }
   ],
   "source": [
    "road_accidents['Accident_Severity'] = road_accidents['Accident_Severity'].astype('category')\n",
    "road_accidents['Light_Conditions'] = road_accidents['Light_Conditions'].astype('category')\n",
    "road_accidents['District Area'] = road_accidents['District Area'].astype('category')\n",
    "road_accidents['Road_Surface_Conditions'] = road_accidents['Road_Surface_Conditions'].astype('category')\n",
    "road_accidents['Road_Type'] = road_accidents['Road_Type'].astype('category')\n",
    "road_accidents['Urban_or_Rural_Area'] = road_accidents['Urban_or_Rural_Area'].astype('category')\n",
    "road_accidents['Weather_Conditions'] = road_accidents['Weather_Conditions'].astype('category')\n",
    "road_accidents['Vehicle_Type'] = road_accidents['Vehicle_Type'].astype('category')\n",
    "\n",
    "road_accidents.dtypes"
   ]
  },
  {
   "cell_type": "markdown",
   "id": "dda8e3f2-1e13-48e1-bf81-1e2bd38c38f3",
   "metadata": {},
   "source": [
    "<hr>\n",
    "<h1>Questions:</h1>\n",
    "<h3>1. How many accidents are considered slight, serious or fatal? </h3>"
   ]
  },
  {
   "cell_type": "code",
   "execution_count": 9,
   "id": "26fb3f13-8b8a-4f1f-baa6-7812d978d043",
   "metadata": {},
   "outputs": [
    {
     "data": {
      "text/plain": [
       "Accident_Severity\n",
       "Slight     563801\n",
       "Serious     88217\n",
       "Fatal        8661\n",
       "Name: count, dtype: int64"
      ]
     },
     "execution_count": 9,
     "metadata": {},
     "output_type": "execute_result"
    }
   ],
   "source": [
    "road_accidents['Accident_Severity'].value_counts()"
   ]
  },
  {
   "cell_type": "markdown",
   "id": "fac38a8a-e70f-4ebd-bb4c-11750a843cbf",
   "metadata": {},
   "source": [
    "<h1>Insight #1</h1>\n",
    "<h3>There are 563,801 slight accidents, 88,217 serious accidents and 8,661 fatal accidents.</h3>\n",
    "<hr>\n",
    "<h3>2. Does accidents happen more on urban or rural area?\n",
    "</h3>"
   ]
  },
  {
   "cell_type": "code",
   "execution_count": 11,
   "id": "123a4314-2089-4d79-9d3b-1113cd5b5827",
   "metadata": {},
   "outputs": [
    {
     "data": {
      "text/plain": [
       "0    Urban\n",
       "Name: Urban_or_Rural_Area, dtype: category\n",
       "Categories (3, object): ['Rural', 'Unallocated', 'Urban']"
      ]
     },
     "execution_count": 11,
     "metadata": {},
     "output_type": "execute_result"
    }
   ],
   "source": [
    "road_accidents['Urban_or_Rural_Area'].mode()"
   ]
  },
  {
   "cell_type": "markdown",
   "id": "d5caf932-8bcb-435c-b311-d9fdf5a39d8d",
   "metadata": {},
   "source": [
    "<h1>Insight #2</h1>\n",
    "<h3>Urban areas experiences more accidents than rural areas.</h3>\n",
    "<hr>\n",
    "<h3>3. What is the highest number of casualties in the road accidents?\n",
    "</h3>"
   ]
  },
  {
   "cell_type": "code",
   "execution_count": 13,
   "id": "38e55bc0-0ada-4759-b0a8-31c649388034",
   "metadata": {},
   "outputs": [
    {
     "data": {
      "text/html": [
       "<div>\n",
       "<style scoped>\n",
       "    .dataframe tbody tr th:only-of-type {\n",
       "        vertical-align: middle;\n",
       "    }\n",
       "\n",
       "    .dataframe tbody tr th {\n",
       "        vertical-align: top;\n",
       "    }\n",
       "\n",
       "    .dataframe thead th {\n",
       "        text-align: right;\n",
       "    }\n",
       "</style>\n",
       "<table border=\"1\" class=\"dataframe\">\n",
       "  <thead>\n",
       "    <tr style=\"text-align: right;\">\n",
       "      <th></th>\n",
       "      <th>count</th>\n",
       "      <th>mean</th>\n",
       "      <th>std</th>\n",
       "      <th>min</th>\n",
       "      <th>25%</th>\n",
       "      <th>50%</th>\n",
       "      <th>75%</th>\n",
       "      <th>max</th>\n",
       "    </tr>\n",
       "  </thead>\n",
       "  <tbody>\n",
       "    <tr>\n",
       "      <th>Latitude</th>\n",
       "      <td>660679.0</td>\n",
       "      <td>52.553866</td>\n",
       "      <td>1.406896</td>\n",
       "      <td>49.914430</td>\n",
       "      <td>51.490696</td>\n",
       "      <td>52.315755</td>\n",
       "      <td>53.453444</td>\n",
       "      <td>60.757544</td>\n",
       "    </tr>\n",
       "    <tr>\n",
       "      <th>Longitude</th>\n",
       "      <td>660679.0</td>\n",
       "      <td>-1.431210</td>\n",
       "      <td>1.383302</td>\n",
       "      <td>-7.516225</td>\n",
       "      <td>-2.332191</td>\n",
       "      <td>-1.411761</td>\n",
       "      <td>-0.232901</td>\n",
       "      <td>1.762010</td>\n",
       "    </tr>\n",
       "    <tr>\n",
       "      <th>Number_of_Casualties</th>\n",
       "      <td>660679.0</td>\n",
       "      <td>1.357040</td>\n",
       "      <td>0.824847</td>\n",
       "      <td>1.000000</td>\n",
       "      <td>1.000000</td>\n",
       "      <td>1.000000</td>\n",
       "      <td>1.000000</td>\n",
       "      <td>68.000000</td>\n",
       "    </tr>\n",
       "    <tr>\n",
       "      <th>Number_of_Vehicles</th>\n",
       "      <td>660679.0</td>\n",
       "      <td>1.831255</td>\n",
       "      <td>0.715269</td>\n",
       "      <td>1.000000</td>\n",
       "      <td>1.000000</td>\n",
       "      <td>2.000000</td>\n",
       "      <td>2.000000</td>\n",
       "      <td>32.000000</td>\n",
       "    </tr>\n",
       "  </tbody>\n",
       "</table>\n",
       "</div>"
      ],
      "text/plain": [
       "                         count       mean       std        min        25%  \\\n",
       "Latitude              660679.0  52.553866  1.406896  49.914430  51.490696   \n",
       "Longitude             660679.0  -1.431210  1.383302  -7.516225  -2.332191   \n",
       "Number_of_Casualties  660679.0   1.357040  0.824847   1.000000   1.000000   \n",
       "Number_of_Vehicles    660679.0   1.831255  0.715269   1.000000   1.000000   \n",
       "\n",
       "                            50%        75%        max  \n",
       "Latitude              52.315755  53.453444  60.757544  \n",
       "Longitude             -1.411761  -0.232901   1.762010  \n",
       "Number_of_Casualties   1.000000   1.000000  68.000000  \n",
       "Number_of_Vehicles     2.000000   2.000000  32.000000  "
      ]
     },
     "execution_count": 13,
     "metadata": {},
     "output_type": "execute_result"
    }
   ],
   "source": [
    "road_accidents.describe().T"
   ]
  },
  {
   "cell_type": "code",
   "execution_count": 14,
   "id": "341a10b0-ea37-47b1-a18e-0a111797b06d",
   "metadata": {},
   "outputs": [
    {
     "data": {
      "text/plain": [
       "68"
      ]
     },
     "execution_count": 14,
     "metadata": {},
     "output_type": "execute_result"
    }
   ],
   "source": [
    "road_accidents['Number_of_Casualties'].max()"
   ]
  },
  {
   "cell_type": "markdown",
   "id": "2cb4cab3-fd75-4ca8-ab7a-fba50a7e389c",
   "metadata": {},
   "source": [
    "<h1>Insight #3</h1>\n",
    "<h3>The highest number of casualties in a single road accident is 68.</h3>\n",
    "<hr>\n",
    "<h3>4. What type of vehicle experience the most accidents?\n",
    "</h3>"
   ]
  },
  {
   "cell_type": "code",
   "execution_count": 16,
   "id": "3bba1104-64b0-43ff-8f18-4d0e881f18cd",
   "metadata": {},
   "outputs": [
    {
     "data": {
      "text/plain": [
       "Vehicle_Type\n",
       "Car                                      497992\n",
       "Van / Goods 3.5 tonnes mgw or under       34160\n",
       "Bus or coach (17 or more pass seats)      25878\n",
       "Motorcycle over 500cc                     25657\n",
       "Goods 7.5 tonnes mgw and over             17307\n",
       "Motorcycle 125cc and under                15269\n",
       "Taxi/Private hire car                     13294\n",
       "Motorcycle over 125cc and up to 500cc      7656\n",
       "Motorcycle 50cc and under                  7603\n",
       "Goods over 3.5t. and under 7.5t            6096\n",
       "Other vehicle                              5637\n",
       "Minibus (8 - 16 passenger seats)           1976\n",
       "Agricultural vehicle                       1947\n",
       "Pedal cycle                                 197\n",
       "Data missing or out of range                  6\n",
       "Ridden horse                                  4\n",
       "Name: count, dtype: int64"
      ]
     },
     "execution_count": 16,
     "metadata": {},
     "output_type": "execute_result"
    }
   ],
   "source": [
    "road_accidents['Vehicle_Type'].value_counts()"
   ]
  },
  {
   "cell_type": "markdown",
   "id": "f6c7b126-f5b4-4240-b3a0-5563d5d4750f",
   "metadata": {},
   "source": [
    "<h1>Insight #4</h1>\n",
    "<h3>Cars experiences the most accidents with 497,992 accidents.</h3>\n",
    "<hr>\n",
    "<h3>5. What is the average number of casualties and vehicles in the road accidents?</h3>"
   ]
  },
  {
   "cell_type": "code",
   "execution_count": 18,
   "id": "41b89b48-7203-4c49-9f32-57e4497d519e",
   "metadata": {},
   "outputs": [
    {
     "data": {
      "text/plain": [
       "1.357040257068864"
      ]
     },
     "execution_count": 18,
     "metadata": {},
     "output_type": "execute_result"
    }
   ],
   "source": [
    "road_accidents['Number_of_Casualties'].mean()"
   ]
  },
  {
   "cell_type": "code",
   "execution_count": 19,
   "id": "f871a953-fd80-45ff-bb7b-ed66c5d48a72",
   "metadata": {},
   "outputs": [
    {
     "data": {
      "text/plain": [
       "1.8312554205597575"
      ]
     },
     "execution_count": 19,
     "metadata": {},
     "output_type": "execute_result"
    }
   ],
   "source": [
    "road_accidents['Number_of_Vehicles'].mean()"
   ]
  },
  {
   "cell_type": "markdown",
   "id": "937592df-b3da-4393-bc6f-589b6b778423",
   "metadata": {},
   "source": [
    "<h1>Insight #5</h1>\n",
    "<h3>The average number of casualties is 1.35 and the average number of vehicles is 1.83.</h3>\n",
    "<hr>\n",
    "<h3>6. How many accidents have more than 1 vehicle involved?\n",
    "</h3>"
   ]
  },
  {
   "cell_type": "code",
   "execution_count": 70,
   "id": "956f20e6-c893-449a-ba4c-0a4e6da385da",
   "metadata": {},
   "outputs": [
    {
     "data": {
      "text/plain": [
       "Number_of_Vehicles\n",
       "True     459892\n",
       "False    200787\n",
       "Name: count, dtype: int64"
      ]
     },
     "execution_count": 70,
     "metadata": {},
     "output_type": "execute_result"
    }
   ],
   "source": [
    "(road_accidents['Number_of_Vehicles'] > 1).value_counts()"
   ]
  },
  {
   "cell_type": "markdown",
   "id": "f7551154-9e79-4af0-bf06-f0bec0ec176f",
   "metadata": {},
   "source": [
    "<h1>Insight #6</h1>\n",
    "<h3>There are 459,892 accidents that have more than 1 vehicle involved in it.</h3>\n",
    "<hr>\n",
    "<h3>7. Which district have the lowest amount of road accidents?</h3>"
   ]
  },
  {
   "cell_type": "code",
   "execution_count": 181,
   "id": "ffaf47ea-7354-48aa-bd16-976d2742a847",
   "metadata": {},
   "outputs": [
    {
     "data": {
      "text/plain": [
       "District Area\n",
       "Birmingham            13491\n",
       "Leeds                  8898\n",
       "Manchester             6720\n",
       "Bradford               6212\n",
       "Sheffield              5710\n",
       "                      ...  \n",
       "Berwick-upon-Tweed      153\n",
       "Teesdale                142\n",
       "Shetland Islands        133\n",
       "Orkney Islands          117\n",
       "Clackmannanshire         91\n",
       "Name: count, Length: 422, dtype: int64"
      ]
     },
     "execution_count": 181,
     "metadata": {},
     "output_type": "execute_result"
    }
   ],
   "source": [
    "road_accidents['District Area'].value_counts()"
   ]
  },
  {
   "cell_type": "markdown",
   "id": "f1471475-5ace-4a60-9cd4-1b43bfeb796c",
   "metadata": {},
   "source": [
    "<h1>Insight #7</h1>\n",
    "<h3>The district area of Clackmannanshire have the lowest with only having 91 road accidents.</h3>\n",
    "<hr>\n",
    "<h3>8. What date have the highest amount of accidents in a single day?</h3>"
   ]
  },
  {
   "cell_type": "code",
   "execution_count": 138,
   "id": "68a1ca48-bb41-41f4-afbb-21e55011d500",
   "metadata": {},
   "outputs": [
    {
     "data": {
      "text/plain": [
       "Accident Date\n",
       "30-11-2019    704\n",
       "31-01-2019    697\n",
       "13-07-2019    692\n",
       "13-11-2021    692\n",
       "14-08-2019    688\n",
       "             ... \n",
       "30-12-2022    171\n",
       "25-12-2019    157\n",
       "25-12-2022    145\n",
       "10/1/2022     123\n",
       "25-12-2020    118\n",
       "Name: count, Length: 1461, dtype: int64"
      ]
     },
     "execution_count": 138,
     "metadata": {},
     "output_type": "execute_result"
    }
   ],
   "source": [
    "road_accidents['Accident Date'].value_counts()"
   ]
  },
  {
   "cell_type": "markdown",
   "id": "579ecbe5-69fd-4c4f-9458-257cfd567ef1",
   "metadata": {},
   "source": [
    "<h1>Insight #8</h1>\n",
    "<h3>In 30-11-2019, the most accidents happened with about 704 being recorded that day.</h3>\n",
    "<hr>\n",
    "<h3>9. Base on the latitude, what location does most accidents happen?</h3>"
   ]
  },
  {
   "cell_type": "code",
   "execution_count": 140,
   "id": "ece5c4e8-727c-4d28-9cb9-a84dc870c5e9",
   "metadata": {},
   "outputs": [
    {
     "data": {
      "text/plain": [
       "Latitude\n",
       "52.458798    50\n",
       "52.949719    45\n",
       "53.083165    33\n",
       "52.967634    31\n",
       "52.938860    29\n",
       "             ..\n",
       "53.657705     1\n",
       "53.628677     1\n",
       "53.643256     1\n",
       "53.629944     1\n",
       "57.575210     1\n",
       "Name: count, Length: 511619, dtype: int64"
      ]
     },
     "execution_count": 140,
     "metadata": {},
     "output_type": "execute_result"
    }
   ],
   "source": [
    "road_accidents['Latitude'].value_counts()"
   ]
  },
  {
   "cell_type": "markdown",
   "id": "1c5ab204-d9fc-4c5a-a04b-bcd9f6c23721",
   "metadata": {},
   "source": [
    "<h1>Insight #9</h1>\n",
    "<h3>The area with the 52.458798 for its latitude have the highest amount of accidents with 50.</h3>\n",
    "<hr>\n",
    "<h3>10.  Which area has more fatal accidents, urban or rural?</h3>"
   ]
  },
  {
   "cell_type": "code",
   "execution_count": 193,
   "id": "3aa23058-79c5-40cb-b4a0-e436a6b1b27d",
   "metadata": {},
   "outputs": [
    {
     "data": {
      "text/plain": [
       "Urban_or_Rural_Area  Accident_Severity\n",
       "Rural                Fatal                  5601\n",
       "                     Serious               37312\n",
       "                     Slight               196077\n",
       "Unallocated          Fatal                     0\n",
       "                     Serious                   1\n",
       "                     Slight                   10\n",
       "Urban                Fatal                  3060\n",
       "                     Serious               50904\n",
       "                     Slight               367714\n",
       "dtype: int64"
      ]
     },
     "execution_count": 193,
     "metadata": {},
     "output_type": "execute_result"
    }
   ],
   "source": [
    "more_fatal = road_accidents.groupby(['Urban_or_Rural_Area', 'Accident_Severity']).size()\n",
    "more_fatal"
   ]
  },
  {
   "cell_type": "markdown",
   "id": "b53eb756-fa3f-466a-adff-4dc0a504a43d",
   "metadata": {},
   "source": [
    "<h1>Insight #10</h1>\n",
    "<h3>Rural areas experiences more fatal accidents with it having 2,541 more than the urban areas.</h3>\n",
    "<hr>\n",
    "<h3>11. What is the total number of casualties from the dataset?</h3>"
   ]
  },
  {
   "cell_type": "code",
   "execution_count": 236,
   "id": "e918f064-f83f-4c18-9768-b11d2ac6ccf0",
   "metadata": {},
   "outputs": [
    {
     "data": {
      "text/plain": [
       "896568"
      ]
     },
     "execution_count": 236,
     "metadata": {},
     "output_type": "execute_result"
    }
   ],
   "source": [
    "road_accidents[\"Number_of_Casualties\"].sum()"
   ]
  },
  {
   "cell_type": "markdown",
   "id": "7799973c-c76e-47a0-a15a-087801b3f141",
   "metadata": {},
   "source": [
    "<h1>Insight #11</h1>\n",
    "<h3>There are a total of 896,568 casualties from all the accidents in the dataset.</h3>\n",
    "<hr>\n",
    "<h3>12. Which area has more total number of casualties, Urban or Rural?</h3>"
   ]
  },
  {
   "cell_type": "code",
   "execution_count": 249,
   "id": "5dd5de78-3102-499c-a962-7db0187b7583",
   "metadata": {},
   "outputs": [
    {
     "data": {
      "text/plain": [
       "Urban_or_Rural_Area\n",
       "Rural          353515\n",
       "Unallocated        13\n",
       "Urban          543040\n",
       "Name: Number_of_Casualties, dtype: int64"
      ]
     },
     "execution_count": 249,
     "metadata": {},
     "output_type": "execute_result"
    }
   ],
   "source": [
    "road_accidents.groupby(\"Urban_or_Rural_Area\")[\"Number_of_Casualties\"].sum()"
   ]
  },
  {
   "cell_type": "markdown",
   "id": "c73b98e1-c4f3-4a01-ba62-3b8ee9feb771",
   "metadata": {},
   "source": [
    "<h1>Insight #12</h1>\n",
    "<h3>Urban areas have more number of casualties with the combined number of 543,040.</h3>\n",
    "<hr>\n",
    "<h3>13. Which accident severity have the highest avereage number of vehicles?</h3>"
   ]
  },
  {
   "cell_type": "code",
   "execution_count": 238,
   "id": "967cf535-0ca7-40b1-a68b-19676fc3aeec",
   "metadata": {},
   "outputs": [
    {
     "data": {
      "text/plain": [
       "Accident_Severity\n",
       "Fatal      1.786976\n",
       "Serious    1.678327\n",
       "Slight     1.855864\n",
       "Name: Number_of_Vehicles, dtype: float64"
      ]
     },
     "execution_count": 238,
     "metadata": {},
     "output_type": "execute_result"
    }
   ],
   "source": [
    "road_accidents.groupby(\"Accident_Severity\")[\"Number_of_Vehicles\"].mean()"
   ]
  },
  {
   "cell_type": "markdown",
   "id": "90010273-73ff-42ae-a695-558ba7fb4ad5",
   "metadata": {},
   "source": [
    "<h1>Insight #13</h1>\n",
    "<h3>Slight accidents have the highest average number of vehicles with an average of 1.85.</h3>\n",
    "<hr>\n",
    "<h3>14. Which road type have the lowest average number of casualties?</h3>"
   ]
  },
  {
   "cell_type": "code",
   "execution_count": 244,
   "id": "b4489891-b153-4bc6-898d-eb164fbc8a31",
   "metadata": {},
   "outputs": [
    {
     "data": {
      "text/plain": [
       "Road_Type\n",
       "Dual carriageway      1.477279\n",
       "One way street        1.192713\n",
       "Roundabout            1.274891\n",
       "Single carriageway    1.343788\n",
       "Slip road             1.423661\n",
       "Name: Number_of_Casualties, dtype: float64"
      ]
     },
     "execution_count": 244,
     "metadata": {},
     "output_type": "execute_result"
    }
   ],
   "source": [
    "road_accidents.groupby(\"Road_Type\")[\"Number_of_Casualties\"].mean()"
   ]
  },
  {
   "cell_type": "markdown",
   "id": "666ffd21-1a0b-4808-b0d3-5a5fda71e7b0",
   "metadata": {},
   "source": [
    "<h1>Insight #14</h1>\n",
    "<h3>One way streets have the lowest average number of casualties with an average of 1.19.</h3>\n",
    "<hr>\n",
    "<h3>15. Which weather condition causes the most fatal accidents?</h3>"
   ]
  },
  {
   "cell_type": "code",
   "execution_count": 258,
   "id": "7f2ecd84-0c8b-43e5-8a51-1f886838475a",
   "metadata": {},
   "outputs": [
    {
     "data": {
      "text/plain": [
       "Weather_Conditions     Accident_Severity\n",
       "Fine + high winds      Fatal                   175\n",
       "                       Serious                1245\n",
       "                       Slight                 7134\n",
       "Fine no high winds     Fatal                  7207\n",
       "                       Serious               73285\n",
       "                       Slight               454521\n",
       "Fog or mist            Fatal                    82\n",
       "                       Serious                 483\n",
       "                       Slight                 2963\n",
       "Other                  Fatal                   165\n",
       "                       Serious                1801\n",
       "                       Slight                15184\n",
       "Raining + high winds   Fatal                   145\n",
       "                       Serious                1261\n",
       "                       Slight                 8209\n",
       "Raining no high winds  Fatal                   848\n",
       "                       Serious                9468\n",
       "                       Slight                69380\n",
       "Snowing + high winds   Fatal                     3\n",
       "                       Serious                 109\n",
       "                       Slight                  773\n",
       "Snowing no high winds  Fatal                    36\n",
       "                       Serious                 565\n",
       "                       Slight                 5637\n",
       "dtype: int64"
      ]
     },
     "execution_count": 258,
     "metadata": {},
     "output_type": "execute_result"
    }
   ],
   "source": [
    "fatal_weather = road_accidents.groupby(['Weather_Conditions', 'Accident_Severity']).size()\n",
    "fatal_weather"
   ]
  },
  {
   "cell_type": "markdown",
   "id": "9b25834d-84c0-4eeb-8934-b4e82476809d",
   "metadata": {},
   "source": [
    "<h1>Insight #15</h1>\n",
    "<h3>The weather condition 'Fine + high winds' causes the most fatal accidents.</h3>\n",
    "<hr>\n",
    "<h3>16. Which light condition causes the least amount of serious accidents?</h3>"
   ]
  },
  {
   "cell_type": "code",
   "execution_count": 261,
   "id": "86f0b8da-0a80-4e8a-bc54-bbf451c3275a",
   "metadata": {},
   "outputs": [
    {
     "data": {
      "text/plain": [
       "Light_Conditions             Accident_Severity\n",
       "Darkness - lighting unknown  Fatal                    68\n",
       "                             Serious                 794\n",
       "                             Slight                 5622\n",
       "Darkness - lights lit        Fatal                  1860\n",
       "                             Serious               19130\n",
       "                             Slight               108345\n",
       "Darkness - lights unlit      Fatal                    45\n",
       "                             Serious                 360\n",
       "                             Slight                 2138\n",
       "Darkness - no lighting       Fatal                  1612\n",
       "                             Serious                7174\n",
       "                             Slight                28651\n",
       "Daylight                     Fatal                  5076\n",
       "                             Serious               60759\n",
       "                             Slight               419045\n",
       "dtype: int64"
      ]
     },
     "execution_count": 261,
     "metadata": {},
     "output_type": "execute_result"
    }
   ],
   "source": [
    "light = road_accidents.groupby(['Light_Conditions', 'Accident_Severity']).size()\n",
    "light"
   ]
  },
  {
   "cell_type": "markdown",
   "id": "7df96c31-9972-49ef-87d2-76b0ceba6232",
   "metadata": {},
   "source": [
    "<h1>Insight #16</h1>\n",
    "<h3>The light condition 'Darkness - light unlit' causes the least amount of serious accidents.</h3>\n",
    "<hr>\n",
    "<h3>17. Which combination of road type and light conditions causes the least amount of accidents?</h3>"
   ]
  },
  {
   "cell_type": "code",
   "execution_count": 264,
   "id": "680538ef-edbb-4130-ac87-5370fb7478b7",
   "metadata": {},
   "outputs": [
    {
     "data": {
      "text/plain": [
       "Road_Type           Light_Conditions           \n",
       "Dual carriageway    Darkness - lighting unknown       905\n",
       "                    Darkness - lights lit           20242\n",
       "                    Darkness - lights unlit           465\n",
       "                    Darkness - no lighting           7460\n",
       "                    Daylight                        70352\n",
       "One way street      Darkness - lighting unknown       124\n",
       "                    Darkness - lights lit            3310\n",
       "                    Darkness - lights unlit            58\n",
       "                    Darkness - no lighting            103\n",
       "                    Daylight                         9964\n",
       "Roundabout          Darkness - lighting unknown       470\n",
       "                    Darkness - lights lit           10528\n",
       "                    Darkness - lights unlit           189\n",
       "                    Darkness - no lighting            224\n",
       "                    Daylight                        32581\n",
       "Single carriageway  Darkness - lighting unknown      4899\n",
       "                    Darkness - lights lit           93940\n",
       "                    Darkness - lights unlit          1797\n",
       "                    Darkness - no lighting          29293\n",
       "                    Daylight                       366734\n",
       "Slip road           Darkness - lighting unknown        86\n",
       "                    Darkness - lights lit            1315\n",
       "                    Darkness - lights unlit            34\n",
       "                    Darkness - no lighting            357\n",
       "                    Daylight                         5249\n",
       "dtype: int64"
      ]
     },
     "execution_count": 264,
     "metadata": {},
     "output_type": "execute_result"
    }
   ],
   "source": [
    "road_light = road_accidents.groupby(['Road_Type', 'Light_Conditions']).size()\n",
    "road_light"
   ]
  },
  {
   "cell_type": "markdown",
   "id": "4457d0fa-4eac-4b26-80aa-41af8e467bc5",
   "metadata": {},
   "source": [
    "<h1>Insight #17</h1>\n",
    "<h3>Slippy road with darkness - lights unlit have the least amount of accidents with only having 34 accidents.</h3>\n",
    "<hr>\n",
    "<h3>18. Which combination of weather and road surface causes the most accidents?</h3>"
   ]
  },
  {
   "cell_type": "code",
   "execution_count": 267,
   "id": "5bab70db-9fbf-42d4-a063-7ad19c5e7203",
   "metadata": {},
   "outputs": [
    {
     "data": {
      "text/plain": [
       "Road_Surface_Conditions  Weather_Conditions   \n",
       "Dry                      Fine + high winds          5026\n",
       "                         Fine no high winds       439733\n",
       "                         Fog or mist                 473\n",
       "                         Other                      2634\n",
       "                         Raining + high winds         72\n",
       "                         Raining no high winds       551\n",
       "                         Snowing + high winds          4\n",
       "                         Snowing no high winds        54\n",
       "Flood over 3cm. deep     Fine + high winds            15\n",
       "                         Fine no high winds          132\n",
       "                         Fog or mist                   3\n",
       "                         Other                        19\n",
       "                         Raining + high winds        291\n",
       "                         Raining no high winds       548\n",
       "                         Snowing + high winds          3\n",
       "                         Snowing no high winds         6\n",
       "Frost or ice             Fine + high winds           183\n",
       "                         Fine no high winds        10878\n",
       "                         Fog or mist                 709\n",
       "                         Other                      4718\n",
       "                         Raining + high winds         52\n",
       "                         Raining no high winds       404\n",
       "                         Snowing + high winds        162\n",
       "                         Snowing no high winds      1411\n",
       "Snow                     Fine + high winds            19\n",
       "                         Fine no high winds         1101\n",
       "                         Fog or mist                  27\n",
       "                         Other                       413\n",
       "                         Raining + high winds         16\n",
       "                         Raining no high winds       106\n",
       "                         Snowing + high winds        549\n",
       "                         Snowing no high winds      3659\n",
       "Wet or damp              Fine + high winds          3311\n",
       "                         Fine no high winds        83169\n",
       "                         Fog or mist                2316\n",
       "                         Other                      9366\n",
       "                         Raining + high winds       9184\n",
       "                         Raining no high winds     78087\n",
       "                         Snowing + high winds        167\n",
       "                         Snowing no high winds      1108\n",
       "dtype: int64"
      ]
     },
     "execution_count": 267,
     "metadata": {},
     "output_type": "execute_result"
    }
   ],
   "source": [
    "surface_weather = road_accidents.groupby(['Road_Surface_Conditions', 'Weather_Conditions']).size()\n",
    "surface_weather"
   ]
  },
  {
   "cell_type": "markdown",
   "id": "5bb8338a-8369-4cc6-a7d0-227fc4a4d01e",
   "metadata": {},
   "source": [
    "<h1>Insight #18</h1>\n",
    "<h3>The combination of dry road and fine no high winds weather causes the most accidents.</h3>\n",
    "<hr>\n",
    "<h3>19. Which combination of weather and road surface causes the most accidents?</h3>"
   ]
  },
  {
   "cell_type": "code",
   "execution_count": 270,
   "id": "1aeef089-decd-4a08-a969-255845ff372d",
   "metadata": {},
   "outputs": [
    {
     "data": {
      "text/plain": [
       "Road_Type           Road_Surface_Conditions\n",
       "Dual carriageway    Dry                         66272\n",
       "                    Flood over 3cm. deep          302\n",
       "                    Frost or ice                 2408\n",
       "                    Snow                          909\n",
       "                    Wet or damp                 29533\n",
       "One way street      Dry                         10100\n",
       "                    Flood over 3cm. deep            5\n",
       "                    Frost or ice                  183\n",
       "                    Snow                           76\n",
       "                    Wet or damp                  3195\n",
       "Roundabout          Dry                         30784\n",
       "                    Flood over 3cm. deep           22\n",
       "                    Frost or ice                  745\n",
       "                    Snow                          232\n",
       "                    Wet or damp                 12209\n",
       "Single carriageway  Dry                        336671\n",
       "                    Flood over 3cm. deep          679\n",
       "                    Frost or ice                15003\n",
       "                    Snow                         4613\n",
       "                    Wet or damp                139697\n",
       "Slip road           Dry                          4720\n",
       "                    Flood over 3cm. deep            9\n",
       "                    Frost or ice                  178\n",
       "                    Snow                           60\n",
       "                    Wet or damp                  2074\n",
       "dtype: int64"
      ]
     },
     "execution_count": 270,
     "metadata": {},
     "output_type": "execute_result"
    }
   ],
   "source": [
    "road_type_surface = road_accidents.groupby(['Road_Type', 'Road_Surface_Conditions']).size()\n",
    "road_type_surface"
   ]
  },
  {
   "cell_type": "markdown",
   "id": "bea9ca12-35fe-4924-8148-5e0ab906a5d2",
   "metadata": {},
   "source": [
    "<h1>Insight #19</h1>\n",
    "<h3>A single carriegeway road with dry surface causes the most accidents with 336,671 accidentS.</h3>\n",
    "<hr>\n",
    "<h3>20. Is there a correlation between the number of casualties and the vehicles involved?</h3>"
   ]
  },
  {
   "cell_type": "code",
   "execution_count": 273,
   "id": "19492911-25a5-48cc-9f8f-8eccf9c7b875",
   "metadata": {},
   "outputs": [
    {
     "data": {
      "text/plain": [
       "0.22888886126909824"
      ]
     },
     "execution_count": 273,
     "metadata": {},
     "output_type": "execute_result"
    }
   ],
   "source": [
    "casualty_vehicle_corr = road_accidents['Number_of_Casualties'].corr(road_accidents['Number_of_Vehicles'])\n",
    "casualty_vehicle_corr"
   ]
  },
  {
   "cell_type": "markdown",
   "id": "3928c395-9fd2-4ed7-a63e-ee5c9a3e33c8",
   "metadata": {},
   "source": [
    "<h1>Insight #20</h1>\n",
    "<h3>There is a no correlation between the number of casualties and the number of vehicle in the road accidents.</h3>\n",
    "<hr>"
   ]
  }
 ],
 "metadata": {
  "kernelspec": {
   "display_name": "Python 3 (ipykernel)",
   "language": "python",
   "name": "python3"
  },
  "language_info": {
   "codemirror_mode": {
    "name": "ipython",
    "version": 3
   },
   "file_extension": ".py",
   "mimetype": "text/x-python",
   "name": "python",
   "nbconvert_exporter": "python",
   "pygments_lexer": "ipython3",
   "version": "3.12.4"
  }
 },
 "nbformat": 4,
 "nbformat_minor": 5
}
