{
 "cells": [
  {
   "cell_type": "markdown",
   "id": "d00348bb-ecb7-4add-906b-0ea56e6c2ece",
   "metadata": {},
   "source": [
    "<h1> Name: Christian Hardinan"
   ]
  },
  {
   "cell_type": "code",
   "execution_count": 2,
   "id": "d301f01a-ddd0-4e5e-bbc5-b7459b72935f",
   "metadata": {},
   "outputs": [
    {
     "name": "stdout",
     "output_type": "stream",
     "text": [
      "Hello world!\n"
     ]
    }
   ],
   "source": [
    "print ('Hello world!')"
   ]
  },
  {
   "cell_type": "code",
   "execution_count": null,
   "id": "9c8588b2-4ee1-4326-addf-f305942e624a",
   "metadata": {},
   "outputs": [],
   "source": []
  }
 ],
 "metadata": {
  "kernelspec": {
   "display_name": "Python 3 (ipykernel)",
   "language": "python",
   "name": "python3"
  },
  "language_info": {
   "codemirror_mode": {
    "name": "ipython",
    "version": 3
   },
   "file_extension": ".py",
   "mimetype": "text/x-python",
   "name": "python",
   "nbconvert_exporter": "python",
   "pygments_lexer": "ipython3",
   "version": "3.11.3"
  }
 },
 "nbformat": 4,
 "nbformat_minor": 5
}
